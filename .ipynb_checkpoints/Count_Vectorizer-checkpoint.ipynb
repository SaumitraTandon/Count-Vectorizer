{
 "cells": [
  {
   "cell_type": "code",
   "execution_count": 1,
   "id": "a1ca1b8b-4a9f-4a2d-8763-f34d5a4fa946",
   "metadata": {},
   "outputs": [],
   "source": [
    "import numpy as np\n",
    "import pandas as pd\n",
    "from sklearn.feature_extraction.text import CountVectorizer\n",
    "from sklearn.naive_bayes import MultinomialNB   #Classifier\n",
    "from sklearn.model_selection import train_test_split\n",
    "\n",
    "import nltk\n",
    "from nltk import word_tokenize\n",
    "from nltk.stem import WordNetLemmatizer, PorterStemmer\n",
    "from nltk.corpus import wordnet"
   ]
  },
  {
   "cell_type": "code",
   "execution_count": 2,
   "id": "cba4cecc-df42-48af-885a-5f9d1fe6c855",
   "metadata": {},
   "outputs": [
    {
     "name": "stderr",
     "output_type": "stream",
     "text": [
      "[nltk_data] Downloading package wordnet to\n",
      "[nltk_data]     C:\\Users\\Hp\\AppData\\Roaming\\nltk_data...\n",
      "[nltk_data]   Package wordnet is already up-to-date!\n",
      "[nltk_data] Downloading package punkt to\n",
      "[nltk_data]     C:\\Users\\Hp\\AppData\\Roaming\\nltk_data...\n",
      "[nltk_data]   Package punkt is already up-to-date!\n",
      "[nltk_data] Downloading package averaged_perceptron_tagger to\n",
      "[nltk_data]     C:\\Users\\Hp\\AppData\\Roaming\\nltk_data...\n",
      "[nltk_data]   Package averaged_perceptron_tagger is already up-to-\n",
      "[nltk_data]       date!\n",
      "[nltk_data] Downloading package omw-1.4 to\n",
      "[nltk_data]     C:\\Users\\Hp\\AppData\\Roaming\\nltk_data...\n",
      "[nltk_data]   Package omw-1.4 is already up-to-date!\n"
     ]
    },
    {
     "data": {
      "text/plain": [
       "True"
      ]
     },
     "execution_count": 2,
     "metadata": {},
     "output_type": "execute_result"
    }
   ],
   "source": [
    "#Downloading the data for the nltk\n",
    "nltk.download(\"wordnet\")\n",
    "nltk.download('punkt')\n",
    "nltk.download('averaged_perceptron_tagger')\n",
    "nltk.download('omw-1.4')"
   ]
  },
  {
   "cell_type": "code",
   "execution_count": 3,
   "id": "e0a1b226-3908-4618-acff-3b1acc304064",
   "metadata": {},
   "outputs": [],
   "source": [
    "df = pd.read_csv('bbc_text_cls.csv') #Dataset"
   ]
  },
  {
   "cell_type": "code",
   "execution_count": 4,
   "id": "f773ddd0-50db-4a7f-93ae-ea0cd7166d98",
   "metadata": {},
   "outputs": [
    {
     "data": {
      "text/html": [
       "<div>\n",
       "<style scoped>\n",
       "    .dataframe tbody tr th:only-of-type {\n",
       "        vertical-align: middle;\n",
       "    }\n",
       "\n",
       "    .dataframe tbody tr th {\n",
       "        vertical-align: top;\n",
       "    }\n",
       "\n",
       "    .dataframe thead th {\n",
       "        text-align: right;\n",
       "    }\n",
       "</style>\n",
       "<table border=\"1\" class=\"dataframe\">\n",
       "  <thead>\n",
       "    <tr style=\"text-align: right;\">\n",
       "      <th></th>\n",
       "      <th>text</th>\n",
       "      <th>labels</th>\n",
       "    </tr>\n",
       "  </thead>\n",
       "  <tbody>\n",
       "    <tr>\n",
       "      <th>0</th>\n",
       "      <td>Ad sales boost Time Warner profit\\n\\nQuarterly...</td>\n",
       "      <td>business</td>\n",
       "    </tr>\n",
       "    <tr>\n",
       "      <th>1</th>\n",
       "      <td>Dollar gains on Greenspan speech\\n\\nThe dollar...</td>\n",
       "      <td>business</td>\n",
       "    </tr>\n",
       "    <tr>\n",
       "      <th>2</th>\n",
       "      <td>Yukos unit buyer faces loan claim\\n\\nThe owner...</td>\n",
       "      <td>business</td>\n",
       "    </tr>\n",
       "    <tr>\n",
       "      <th>3</th>\n",
       "      <td>High fuel prices hit BA's profits\\n\\nBritish A...</td>\n",
       "      <td>business</td>\n",
       "    </tr>\n",
       "    <tr>\n",
       "      <th>4</th>\n",
       "      <td>Pernod takeover talk lifts Domecq\\n\\nShares in...</td>\n",
       "      <td>business</td>\n",
       "    </tr>\n",
       "  </tbody>\n",
       "</table>\n",
       "</div>"
      ],
      "text/plain": [
       "                                                text    labels\n",
       "0  Ad sales boost Time Warner profit\\n\\nQuarterly...  business\n",
       "1  Dollar gains on Greenspan speech\\n\\nThe dollar...  business\n",
       "2  Yukos unit buyer faces loan claim\\n\\nThe owner...  business\n",
       "3  High fuel prices hit BA's profits\\n\\nBritish A...  business\n",
       "4  Pernod takeover talk lifts Domecq\\n\\nShares in...  business"
      ]
     },
     "execution_count": 4,
     "metadata": {},
     "output_type": "execute_result"
    }
   ],
   "source": [
    "df.head()"
   ]
  },
  {
   "cell_type": "code",
   "execution_count": 5,
   "id": "397e391e-2b1a-447b-8a8f-990e6859c1cf",
   "metadata": {},
   "outputs": [
    {
     "data": {
      "text/plain": [
       "2225"
      ]
     },
     "execution_count": 5,
     "metadata": {},
     "output_type": "execute_result"
    }
   ],
   "source": [
    "len(df)"
   ]
  },
  {
   "cell_type": "code",
   "execution_count": 6,
   "id": "30f55c96-3250-4bca-ba51-abb9b945f6de",
   "metadata": {},
   "outputs": [],
   "source": [
    "inputs = df['text']\n",
    "labels = df['labels']"
   ]
  },
  {
   "cell_type": "code",
   "execution_count": 8,
   "id": "752cb2d9-2cd2-4492-8fc6-1eead0e98bf8",
   "metadata": {},
   "outputs": [
    {
     "data": {
      "image/png": "[encoded data removed]",
      "text/plain": [
       "<Figure size 1000x500 with 1 Axes>"
      ]
     },
     "metadata": {},
     "output_type": "display_data"
    }
   ],
   "source": [
    "labels.hist(figsize=(10, 5)); #To see if any class is under or over represented"
   ]
  },
  {
   "cell_type": "code",
   "execution_count": 9,
   "id": "8a2e8d58-b568-4e3b-8ecd-646f77a27753",
   "metadata": {},
   "outputs": [],
   "source": [
    "inputs_train, inputs_test, Ytrain, Ytest = train_test_split(inputs, labels, random_state=123)"
   ]
  },
  {
   "cell_type": "code",
   "execution_count": 11,
   "id": "4635e474-347c-4c19-bf7d-c860b64829d5",
   "metadata": {
    "scrolled": true
   },
   "outputs": [
    {
     "data": {
      "text/plain": [
       "1137    Whitehall shredding increasing - Tories\\n\\nCiv...\n",
       "1394    Greek duo cleared in doping case\\n\\nSprinters ...\n",
       "800     U2 stars enter rock Hall of Fame\\n\\nSinger Bru...\n",
       "2138    Warning over tsunami aid website\\n\\nNet users ...\n",
       "1535    Benitez delight after crucial win\\n\\nLiverpool...\n",
       "                              ...                        \n",
       "1147    Blair 'said he would stand down'\\n\\nTony Blair...\n",
       "2154    IBM puts cash behind Linux push\\n\\nIBM is spen...\n",
       "1766    Hingis hints at playing comeback\\n\\nMartina Hi...\n",
       "1122    Clarke faces ID cards rebellion\\n\\nCharles Cla...\n",
       "1346    Athens memories soar above lows\\n\\nWell, it's ...\n",
       "Name: text, Length: 1668, dtype: object"
      ]
     },
     "execution_count": 11,
     "metadata": {},
     "output_type": "execute_result"
    }
   ],
   "source": [
    "inputs_train"
   ]
  },
  {
   "cell_type": "code",
   "execution_count": 12,
   "id": "03fac21d-eb8d-44aa-8fb4-096398bc3e4a",
   "metadata": {},
   "outputs": [],
   "source": [
    "vectorizer = CountVectorizer()"
   ]
  },
  {
   "cell_type": "code",
   "execution_count": 13,
   "id": "fdba5fed-bf48-472d-94b3-80a989587a2c",
   "metadata": {},
   "outputs": [],
   "source": [
    "Xtrain = vectorizer.fit_transform(inputs_train)\n",
    "Xtest = vectorizer.transform(inputs_test)"
   ]
  },
  {
   "cell_type": "code",
   "execution_count": 27,
   "id": "83275bc3-555c-4a96-80d9-69ef9c3063c2",
   "metadata": {},
   "outputs": [
    {
     "data": {
      "text/plain": [
       "<1668x26287 sparse matrix of type '<class 'numpy.int64'>'\n",
       "\twith 337411 stored elements in Compressed Sparse Row format>"
      ]
     },
     "execution_count": 27,
     "metadata": {},
     "output_type": "execute_result"
    }
   ],
   "source": [
    "Xtrain #No. of rows = No. of data samples, No. of columns = Vocabulary size"
   ]
  },
  {
   "cell_type": "code",
   "execution_count": 17,
   "id": "0a818b7e-4531-4201-b247-5e9ec4710c51",
   "metadata": {},
   "outputs": [
    {
     "name": "stdout",
     "output_type": "stream",
     "text": [
      "  (0, 25718)\t3\n",
      "  (0, 21493)\t3\n",
      "  (0, 12374)\t1\n",
      "  (0, 23988)\t3\n",
      "  (0, 5212)\t1\n",
      "  (0, 21184)\t1\n",
      "  (0, 11348)\t2\n",
      "  (0, 7951)\t1\n",
      "  (0, 22558)\t1\n",
      "  (0, 24876)\t2\n",
      "  (0, 23660)\t37\n",
      "  (0, 16720)\t22\n",
      "  (0, 16742)\t1\n",
      "  (0, 7766)\t2\n",
      "  (0, 9546)\t1\n",
      "  (0, 5674)\t1\n",
      "  (0, 4372)\t4\n",
      "  (0, 22926)\t1\n",
      "  (0, 22005)\t1\n",
      "  (0, 10798)\t6\n",
      "  (0, 7101)\t3\n",
      "  (0, 11106)\t3\n",
      "  (0, 7872)\t1\n",
      "  (0, 16588)\t2\n",
      "  (0, 3282)\t2\n",
      "  :\t:\n",
      "  (1667, 19170)\t1\n",
      "  (1667, 2264)\t1\n",
      "  (1667, 3035)\t1\n",
      "  (1667, 6338)\t1\n",
      "  (1667, 15643)\t1\n",
      "  (1667, 21196)\t1\n",
      "  (1667, 4036)\t1\n",
      "  (1667, 7300)\t1\n",
      "  (1667, 5939)\t1\n",
      "  (1667, 22654)\t1\n",
      "  (1667, 6710)\t1\n",
      "  (1667, 12566)\t1\n",
      "  (1667, 3071)\t1\n",
      "  (1667, 7942)\t1\n",
      "  (1667, 16419)\t1\n",
      "  (1667, 24351)\t1\n",
      "  (1667, 5026)\t1\n",
      "  (1667, 3352)\t1\n",
      "  (1667, 9941)\t1\n",
      "  (1667, 5583)\t1\n",
      "  (1667, 16385)\t1\n",
      "  (1667, 3884)\t1\n",
      "  (1667, 17331)\t1\n",
      "  (1667, 10661)\t1\n",
      "  (1667, 9618)\t1\n"
     ]
    }
   ],
   "source": [
    "print(Xtrain)"
   ]
  },
  {
   "cell_type": "code",
   "execution_count": 18,
   "id": "c1837c13-a4f2-4df4-b0b3-8e5b1fdeb453",
   "metadata": {},
   "outputs": [
    {
     "data": {
      "text/plain": [
       "<557x26287 sparse matrix of type '<class 'numpy.int64'>'\n",
       "\twith 108374 stored elements in Compressed Sparse Row format>"
      ]
     },
     "execution_count": 18,
     "metadata": {},
     "output_type": "execute_result"
    }
   ],
   "source": [
    "Xtest"
   ]
  },
  {
   "cell_type": "code",
   "execution_count": 19,
   "id": "e3675026-5449-4ba8-8c59-b018b45b534f",
   "metadata": {},
   "outputs": [
    {
     "name": "stdout",
     "output_type": "stream",
     "text": [
      "  (0, 391)\t1\n",
      "  (0, 1809)\t1\n",
      "  (0, 1853)\t4\n",
      "  (0, 1963)\t2\n",
      "  (0, 2121)\t6\n",
      "  (0, 2261)\t1\n",
      "  (0, 2300)\t1\n",
      "  (0, 2403)\t2\n",
      "  (0, 2417)\t1\n",
      "  (0, 2711)\t2\n",
      "  (0, 3002)\t1\n",
      "  (0, 3277)\t1\n",
      "  (0, 4338)\t1\n",
      "  (0, 4372)\t2\n",
      "  (0, 4962)\t1\n",
      "  (0, 5366)\t1\n",
      "  (0, 5759)\t1\n",
      "  (0, 5866)\t1\n",
      "  (0, 6574)\t1\n",
      "  (0, 7349)\t1\n",
      "  (0, 7773)\t1\n",
      "  (0, 8092)\t8\n",
      "  (0, 8135)\t2\n",
      "  (0, 8145)\t1\n",
      "  (0, 8406)\t1\n",
      "  :\t:\n",
      "  (556, 22884)\t1\n",
      "  (556, 23652)\t1\n",
      "  (556, 23660)\t15\n",
      "  (556, 23694)\t1\n",
      "  (556, 23722)\t2\n",
      "  (556, 23752)\t1\n",
      "  (556, 23811)\t1\n",
      "  (556, 23831)\t1\n",
      "  (556, 23902)\t8\n",
      "  (556, 24415)\t1\n",
      "  (556, 24960)\t1\n",
      "  (556, 25133)\t1\n",
      "  (556, 25347)\t2\n",
      "  (556, 25488)\t2\n",
      "  (556, 25638)\t1\n",
      "  (556, 25681)\t1\n",
      "  (556, 25690)\t1\n",
      "  (556, 25728)\t2\n",
      "  (556, 25776)\t3\n",
      "  (556, 25870)\t1\n",
      "  (556, 25971)\t1\n",
      "  (556, 25987)\t1\n",
      "  (556, 26008)\t1\n",
      "  (556, 26139)\t3\n",
      "  (556, 26143)\t1\n"
     ]
    }
   ],
   "source": [
    "print(Xtest)"
   ]
  },
  {
   "cell_type": "code",
   "execution_count": 26,
   "id": "33e49a02-17fe-418e-a9c6-421e2612ed42",
   "metadata": {},
   "outputs": [
    {
     "data": {
      "text/plain": [
       "1137         politics\n",
       "1394            sport\n",
       "800     entertainment\n",
       "2138             tech\n",
       "1535            sport\n",
       "            ...      \n",
       "1147         politics\n",
       "2154             tech\n",
       "1766            sport\n",
       "1122         politics\n",
       "1346            sport\n",
       "Name: labels, Length: 1668, dtype: object"
      ]
     },
     "execution_count": 26,
     "metadata": {},
     "output_type": "execute_result"
    }
   ],
   "source": [
    "Ytrain"
   ]
  },
  {
   "cell_type": "code",
   "execution_count": 22,
   "id": "5baa6f83-1076-4ed4-b3c4-5d695fe070fd",
   "metadata": {},
   "outputs": [
    {
     "data": {
      "text/plain": [
       "717     entertainment\n",
       "798     entertainment\n",
       "1330            sport\n",
       "18           business\n",
       "1391            sport\n",
       "            ...      \n",
       "1636            sport\n",
       "1422            sport\n",
       "1982             tech\n",
       "2005             tech\n",
       "550     entertainment\n",
       "Name: labels, Length: 557, dtype: object"
      ]
     },
     "execution_count": 22,
     "metadata": {},
     "output_type": "execute_result"
    }
   ],
   "source": [
    "Ytest"
   ]
  },
  {
   "cell_type": "code",
   "execution_count": 28,
   "id": "f46e67db-5525-49c8-9254-994858ec238b",
   "metadata": {},
   "outputs": [
    {
     "data": {
      "text/plain": [
       "337411"
      ]
     },
     "execution_count": 28,
     "metadata": {},
     "output_type": "execute_result"
    }
   ],
   "source": [
    "(Xtrain != 0).sum()"
   ]
  },
  {
   "cell_type": "code",
   "execution_count": 29,
   "id": "ed82fde1-565c-4ea5-a517-5dc4f6ac3779",
   "metadata": {},
   "outputs": [
    {
     "data": {
      "text/plain": [
       "0.007695239935415004"
      ]
     },
     "execution_count": 29,
     "metadata": {},
     "output_type": "execute_result"
    }
   ],
   "source": [
    "# what percentage of values are non-zero?\n",
    "(Xtrain != 0).sum() / np.prod(Xtrain.shape)"
   ]
  },
  {
   "cell_type": "code",
   "execution_count": 30,
   "id": "0833cb9f-c6e2-44d0-b8b1-a95bc7598af0",
   "metadata": {},
   "outputs": [],
   "source": [
    "#Therefore less than 1% of the values are non zero "
   ]
  },
  {
   "cell_type": "code",
   "execution_count": 31,
   "id": "d093a5c0-06b2-42d3-a30b-9a7a5d6b548a",
   "metadata": {},
   "outputs": [
    {
     "name": "stdout",
     "output_type": "stream",
     "text": [
      "train score: 0.9922062350119905\n",
      "test score: 0.9712746858168761\n"
     ]
    }
   ],
   "source": [
    "model = MultinomialNB()\n",
    "model.fit(Xtrain, Ytrain)\n",
    "print(\"train score:\", model.score(Xtrain, Ytrain))\n",
    "print(\"test score:\", model.score(Xtest, Ytest))"
   ]
  },
  {
   "cell_type": "code",
   "execution_count": 33,
   "id": "9eed2321-794d-4378-88a7-08a4dfddd328",
   "metadata": {},
   "outputs": [],
   "source": [
    "prediction = model.predict(Xtest)"
   ]
  },
  {
   "cell_type": "code",
   "execution_count": 34,
   "id": "88b157ea-c04f-4584-b6f9-983d5eb4b22c",
   "metadata": {},
   "outputs": [
    {
     "data": {
      "text/plain": [
       "0.9712746858168761"
      ]
     },
     "execution_count": 34,
     "metadata": {},
     "output_type": "execute_result"
    }
   ],
   "source": [
    "from sklearn.metrics import accuracy_score\n",
    "accuracy_score(prediction, Ytest)"
   ]
  },
  {
   "cell_type": "code",
   "execution_count": 35,
   "id": "640f413d-9117-4fc0-8940-7dddf8d9c3f7",
   "metadata": {},
   "outputs": [
    {
     "name": "stdout",
     "output_type": "stream",
     "text": [
      "train score: 0.9928057553956835\n",
      "test score: 0.9766606822262118\n"
     ]
    }
   ],
   "source": [
    "# with stopwords\n",
    "vectorizer = CountVectorizer(stop_words='english')\n",
    "Xtrain = vectorizer.fit_transform(inputs_train)\n",
    "Xtest = vectorizer.transform(inputs_test)\n",
    "model = MultinomialNB()\n",
    "model.fit(Xtrain, Ytrain)\n",
    "print(\"train score:\", model.score(Xtrain, Ytrain))\n",
    "print(\"test score:\", model.score(Xtest, Ytest))"
   ]
  },
  {
   "cell_type": "code",
   "execution_count": 36,
   "id": "fa543f6c-6ab1-4386-8439-ae625d735b02",
   "metadata": {},
   "outputs": [],
   "source": [
    "def get_wordnet_pos(treebank_tag):\n",
    "  if treebank_tag.startswith('J'):\n",
    "    return wordnet.ADJ\n",
    "  elif treebank_tag.startswith('V'):\n",
    "    return wordnet.VERB\n",
    "  elif treebank_tag.startswith('N'):\n",
    "    return wordnet.NOUN\n",
    "  elif treebank_tag.startswith('R'):\n",
    "    return wordnet.ADV\n",
    "  else:\n",
    "    return wordnet.NOUN"
   ]
  },
  {
   "cell_type": "code",
   "execution_count": 37,
   "id": "934a87e6-ce9e-4062-96a3-eaaab54c9bdd",
   "metadata": {},
   "outputs": [],
   "source": [
    "class LemmaTokenizer:\n",
    "  def __init__(self):\n",
    "    self.wnl = WordNetLemmatizer() #Initializing the object\n",
    "  def __call__(self, doc): # doc is the document to tokenize\n",
    "    tokens = word_tokenize(doc) # converts docs to tokens, similar to string.split()\n",
    "    words_and_tags = nltk.pos_tag(tokens)\n",
    "    return [self.wnl.lemmatize(word, pos=get_wordnet_pos(tag)) \\\n",
    "            for word, tag in words_and_tags]"
   ]
  },
  {
   "cell_type": "code",
   "execution_count": null,
   "id": "afe0dbf6-2e98-4120-840a-5a690c1d4374",
   "metadata": {},
   "outputs": [],
   "source": [
    "#LemmaTokenizer does lemmatization and Tokenization at the same time\n",
    "# We want to create an object and then to call it as if it were a fuction"
   ]
  },
  {
   "cell_type": "code",
   "execution_count": 38,
   "id": "da96efdd-6d93-4e39-b59b-15302db9c044",
   "metadata": {},
   "outputs": [
    {
     "name": "stderr",
     "output_type": "stream",
     "text": [
      "C:\\Users\\Hp\\AppData\\Roaming\\Python\\Python311\\site-packages\\sklearn\\feature_extraction\\text.py:525: UserWarning: The parameter 'token_pattern' will not be used since 'tokenizer' is not None'\n",
      "  warnings.warn(\n"
     ]
    },
    {
     "name": "stdout",
     "output_type": "stream",
     "text": [
      "train score: 0.9922062350119905\n",
      "test score: 0.9676840215439856\n"
     ]
    }
   ],
   "source": [
    "# with lemmatization\n",
    "vectorizer = CountVectorizer(tokenizer=LemmaTokenizer())\n",
    "Xtrain = vectorizer.fit_transform(inputs_train)\n",
    "Xtest = vectorizer.transform(inputs_test)\n",
    "model = MultinomialNB()\n",
    "model.fit(Xtrain, Ytrain)\n",
    "print(\"train score:\", model.score(Xtrain, Ytrain))\n",
    "print(\"test score:\", model.score(Xtest, Ytest))"
   ]
  },
  {
   "cell_type": "code",
   "execution_count": 20,
   "id": "6c902e18-8c94-41b3-a996-f7c41d316295",
   "metadata": {},
   "outputs": [],
   "source": [
    "class StemTokenizer:\n",
    "  def __init__(self):\n",
    "    self.porter = PorterStemmer()\n",
    "  def __call__(self, doc):\n",
    "    tokens = word_tokenize(doc)\n",
    "    return [self.porter.stem(t) for t in tokens]"
   ]
  },
  {
   "cell_type": "code",
   "execution_count": 21,
   "id": "f82c182d-5da5-43a8-90e4-f99fbe0df3e1",
   "metadata": {},
   "outputs": [
    {
     "name": "stderr",
     "output_type": "stream",
     "text": [
      "C:\\Users\\Hp\\AppData\\Roaming\\Python\\Python311\\site-packages\\sklearn\\feature_extraction\\text.py:525: UserWarning: The parameter 'token_pattern' will not be used since 'tokenizer' is not None'\n",
      "  warnings.warn(\n"
     ]
    },
    {
     "name": "stdout",
     "output_type": "stream",
     "text": [
      "train score: 0.9892086330935251\n",
      "test score: 0.9694793536804309\n"
     ]
    }
   ],
   "source": [
    "# with stemming\n",
    "vectorizer = CountVectorizer(tokenizer=StemTokenizer())\n",
    "Xtrain = vectorizer.fit_transform(inputs_train)\n",
    "Xtest = vectorizer.transform(inputs_test)\n",
    "model = MultinomialNB()\n",
    "model.fit(Xtrain, Ytrain)\n",
    "print(\"train score:\", model.score(Xtrain, Ytrain))\n",
    "print(\"test score:\", model.score(Xtest, Ytest))"
   ]
  },
  {
   "cell_type": "code",
   "execution_count": 22,
   "id": "33101e33-2a9e-40f7-a3be-9db94cd0af4b",
   "metadata": {},
   "outputs": [],
   "source": [
    "def simple_tokenizer(s):\n",
    "  return s.split()"
   ]
  },
  {
   "cell_type": "code",
   "execution_count": 23,
   "id": "429f88a0-aaca-4392-ae61-9e66ed1ff9e8",
   "metadata": {},
   "outputs": [
    {
     "name": "stderr",
     "output_type": "stream",
     "text": [
      "C:\\Users\\Hp\\AppData\\Roaming\\Python\\Python311\\site-packages\\sklearn\\feature_extraction\\text.py:525: UserWarning: The parameter 'token_pattern' will not be used since 'tokenizer' is not None'\n",
      "  warnings.warn(\n"
     ]
    },
    {
     "name": "stdout",
     "output_type": "stream",
     "text": [
      "train score: 0.9952038369304557\n",
      "test score: 0.9712746858168761\n"
     ]
    }
   ],
   "source": [
    "# string split tokenizer\n",
    "vectorizer = CountVectorizer(tokenizer=simple_tokenizer)\n",
    "Xtrain = vectorizer.fit_transform(inputs_train)\n",
    "Xtest = vectorizer.transform(inputs_test)\n",
    "model = MultinomialNB()\n",
    "model.fit(Xtrain, Ytrain)\n",
    "print(\"train score:\", model.score(Xtrain, Ytrain))\n",
    "print(\"test score:\", model.score(Xtest, Ytest))"
   ]
  },
  {
   "cell_type": "code",
   "execution_count": null,
   "id": "e27479a6-ed88-4559-aed3-5451db21e1dc",
   "metadata": {},
   "outputs": [],
   "source": [
    "# What is the vector dimensionality in each case?\n",
    "# Compare them and consider why they are larger / smaller"
   ]
  },
  {
   "cell_type": "code",
   "execution_count": null,
   "id": "c91210bf-195e-421d-a278-711c67aa9a69",
   "metadata": {},
   "outputs": [],
   "source": []
  }
 ],
 "metadata": {
  "kernelspec": {
   "display_name": "Python 3 (ipykernel)",
   "language": "python",
   "name": "python3"
  },
  "language_info": {
   "codemirror_mode": {
    "name": "ipython",
    "version": 3
   },
   "file_extension": ".py",
   "mimetype": "text/x-python",
   "name": "python",
   "nbconvert_exporter": "python",
   "pygments_lexer": "ipython3",
   "version": "3.11.7"
  }
 },
 "nbformat": 4,
 "nbformat_minor": 5
}
